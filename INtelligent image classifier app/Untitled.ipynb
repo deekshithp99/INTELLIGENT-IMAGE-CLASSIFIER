{
 "cells": [
  {
   "cell_type": "code",
   "execution_count": 1,
   "metadata": {},
   "outputs": [
    {
     "name": "stdout",
     "output_type": "stream",
     "text": [
      "Overwriting app.py\n"
     ]
    }
   ],
   "source": [
    "%%writefile app.py\n",
    "import streamlit as st\n",
    "import tensorflow as tf\n",
    "st.set_option('deprecation.showfileUploaderEncoding',False)\n",
    "@st.cache(allow_output_mutation=True)\n",
    "def load_model():\n",
    "    model=tf.keras.models.load_model(r'intel_image.h5')\n",
    "    return model\n",
    "model=load_model()\n",
    "st.write(\"\"\"\n",
    "         INTELLIGENT IMAGE CLASSIFIER\n",
    "         \"\"\"\n",
    "        )\n",
    "file=st.file_uploader(\"Please upload an image\",type=[\"jpg\",\"png\",\"jpeg\"])\n",
    "import cv2\n",
    "from PIL import Image\n",
    "import numpy as np\n",
    "def import_and_predict(image_data,model):\n",
    "    image=image_data.resize((150,150))\n",
    "    image1=tf.keras.preprocessing.image.img_to_array(image)\n",
    "    image2=image1[np.newaxis,...]\n",
    "    prediction=model.predict(image2)\n",
    "    return prediction\n",
    "if file is None:\n",
    "    st.text(\"PLEASE UPLOAD AN IMAGE\")\n",
    "else:\n",
    "    image=Image.open(file)\n",
    "    st.image(image,use_column_width=True)\n",
    "    predictions=import_and_predict(image,model)\n",
    "    class_names=['buildings','forest', 'glacier' ,'mountain', 'sea', 'street']\n",
    "    string=\"The given image is most likely to be a: \"+ class_names[np.argmax(predictions)]\n",
    "    st.success(string)"
   ]
  },
  {
   "cell_type": "code",
   "execution_count": 2,
   "metadata": {},
   "outputs": [],
   "source": [
    "from pyngrok import ngrok"
   ]
  },
  {
   "cell_type": "code",
   "execution_count": 3,
   "metadata": {},
   "outputs": [
    {
     "name": "stdout",
     "output_type": "stream",
     "text": [
      "Authtoken saved to configuration file: C:\\Users\\abhis/.ngrok2/ngrok.yml\n"
     ]
    }
   ],
   "source": [
    "!ngrok authtoken 1t7prN3URwh6u4MlrZtS0o6lS5s_5XXJm7e18XbowGi7cwMZY"
   ]
  },
  {
   "cell_type": "code",
   "execution_count": null,
   "metadata": {},
   "outputs": [],
   "source": []
  },
  {
   "cell_type": "code",
   "execution_count": null,
   "metadata": {},
   "outputs": [],
   "source": []
  },
  {
   "cell_type": "code",
   "execution_count": 13,
   "metadata": {},
   "outputs": [],
   "source": []
  },
  {
   "cell_type": "code",
   "execution_count": null,
   "metadata": {},
   "outputs": [],
   "source": []
  }
 ],
 "metadata": {
  "kernelspec": {
   "display_name": "Python 3",
   "language": "python",
   "name": "python3"
  },
  "language_info": {
   "codemirror_mode": {
    "name": "ipython",
    "version": 3
   },
   "file_extension": ".py",
   "mimetype": "text/x-python",
   "name": "python",
   "nbconvert_exporter": "python",
   "pygments_lexer": "ipython3",
   "version": "3.7.6"
  }
 },
 "nbformat": 4,
 "nbformat_minor": 4
}
